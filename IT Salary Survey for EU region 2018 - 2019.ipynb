{
 "cells": [
  {
   "cell_type": "code",
   "execution_count": 2,
   "id": "8448d322",
   "metadata": {},
   "outputs": [],
   "source": [
    "#Importing libraries to use\n",
    "\n",
    "import pandas as pd\n",
    "import numpy as np\n",
    "import matplotlib.pyplot as plt\n",
    "import seaborn as sb"
   ]
  },
  {
   "cell_type": "markdown",
   "id": "4faacc9f",
   "metadata": {},
   "source": [
    "### Collecting Data from the three data sets"
   ]
  },
  {
   "cell_type": "code",
   "execution_count": 10,
   "id": "b17ad345",
   "metadata": {},
   "outputs": [],
   "source": [
    "data_2018 = pd.read_csv('IT Salary Survey EU 2018.csv')\n",
    "data_2019 = pd.read_csv('IT Salary Survey EU 2019.csv')\n",
    "data_2020 = pd.read_csv('IT Salary Survey EU 2020.csv')\n",
    "\n",
    "# File names for 2019 and 2020 were erroneus from the initial download from Kaggle, \n",
    "# I had to correct them in order to have cleaner uniform file names"
   ]
  },
  {
   "cell_type": "markdown",
   "id": "34c9ef14",
   "metadata": {},
   "source": [
    "#### Visual Assessment of the datasets loaded"
   ]
  },
  {
   "cell_type": "code",
   "execution_count": 11,
   "id": "13985195",
   "metadata": {},
   "outputs": [
    {
     "data": {
      "text/html": [
       "<div>\n",
       "<style scoped>\n",
       "    .dataframe tbody tr th:only-of-type {\n",
       "        vertical-align: middle;\n",
       "    }\n",
       "\n",
       "    .dataframe tbody tr th {\n",
       "        vertical-align: top;\n",
       "    }\n",
       "\n",
       "    .dataframe thead th {\n",
       "        text-align: right;\n",
       "    }\n",
       "</style>\n",
       "<table border=\"1\" class=\"dataframe\">\n",
       "  <thead>\n",
       "    <tr style=\"text-align: right;\">\n",
       "      <th></th>\n",
       "      <th>Timestamp</th>\n",
       "      <th>Age</th>\n",
       "      <th>Gender</th>\n",
       "      <th>City</th>\n",
       "      <th>Position</th>\n",
       "      <th>Years of experience</th>\n",
       "      <th>Your level</th>\n",
       "      <th>Current Salary</th>\n",
       "      <th>Salary one year ago</th>\n",
       "      <th>Salary two years ago</th>\n",
       "      <th>Are you getting any Stock Options?</th>\n",
       "      <th>Main language at work</th>\n",
       "      <th>Company size</th>\n",
       "      <th>Company type</th>\n",
       "    </tr>\n",
       "  </thead>\n",
       "  <tbody>\n",
       "    <tr>\n",
       "      <th>213</th>\n",
       "      <td>14/12/2018 19:12:42</td>\n",
       "      <td>35.0</td>\n",
       "      <td>M</td>\n",
       "      <td>Berlin</td>\n",
       "      <td>Senior Software Engineer</td>\n",
       "      <td>10.0</td>\n",
       "      <td>Senior</td>\n",
       "      <td>68000.0</td>\n",
       "      <td>65000.0</td>\n",
       "      <td>60000.0</td>\n",
       "      <td>No</td>\n",
       "      <td>English</td>\n",
       "      <td>100-1000</td>\n",
       "      <td>Product</td>\n",
       "    </tr>\n",
       "    <tr>\n",
       "      <th>558</th>\n",
       "      <td>19/12/2018 13:55:15</td>\n",
       "      <td>NaN</td>\n",
       "      <td>M</td>\n",
       "      <td>London</td>\n",
       "      <td>Big Data Developer</td>\n",
       "      <td>10.0</td>\n",
       "      <td>Senior</td>\n",
       "      <td>90000.0</td>\n",
       "      <td>90000.0</td>\n",
       "      <td>70000.0</td>\n",
       "      <td>No</td>\n",
       "      <td>English</td>\n",
       "      <td>1000+</td>\n",
       "      <td>Bank</td>\n",
       "    </tr>\n",
       "    <tr>\n",
       "      <th>539</th>\n",
       "      <td>18/12/2018 23:13:00</td>\n",
       "      <td>40.0</td>\n",
       "      <td>F</td>\n",
       "      <td>Frankfurt</td>\n",
       "      <td>DB</td>\n",
       "      <td>4.0</td>\n",
       "      <td>Middle</td>\n",
       "      <td>65000.0</td>\n",
       "      <td>NaN</td>\n",
       "      <td>NaN</td>\n",
       "      <td>NaN</td>\n",
       "      <td>Deutsch</td>\n",
       "      <td>100-1000</td>\n",
       "      <td>NaN</td>\n",
       "    </tr>\n",
       "  </tbody>\n",
       "</table>\n",
       "</div>"
      ],
      "text/plain": [
       "               Timestamp   Age Gender       City                  Position  \\\n",
       "213  14/12/2018 19:12:42  35.0      M     Berlin  Senior Software Engineer   \n",
       "558  19/12/2018 13:55:15   NaN      M     London       Big Data Developer    \n",
       "539  18/12/2018 23:13:00  40.0      F  Frankfurt                       DB    \n",
       "\n",
       "     Years of experience Your level  Current Salary  Salary one year ago  \\\n",
       "213                 10.0     Senior         68000.0              65000.0   \n",
       "558                 10.0     Senior         90000.0              90000.0   \n",
       "539                  4.0     Middle         65000.0                  NaN   \n",
       "\n",
       "     Salary two years ago Are you getting any Stock Options?  \\\n",
       "213               60000.0                                 No   \n",
       "558               70000.0                                 No   \n",
       "539                   NaN                                NaN   \n",
       "\n",
       "    Main language at work Company size Company type  \n",
       "213               English     100-1000      Product  \n",
       "558               English        1000+        Bank   \n",
       "539               Deutsch     100-1000          NaN  "
      ]
     },
     "execution_count": 11,
     "metadata": {},
     "output_type": "execute_result"
    }
   ],
   "source": [
    "data_2018.sample(3)"
   ]
  },
  {
   "cell_type": "code",
   "execution_count": 13,
   "id": "7743291e",
   "metadata": {
    "scrolled": true
   },
   "outputs": [
    {
     "data": {
      "text/html": [
       "<div>\n",
       "<style scoped>\n",
       "    .dataframe tbody tr th:only-of-type {\n",
       "        vertical-align: middle;\n",
       "    }\n",
       "\n",
       "    .dataframe tbody tr th {\n",
       "        vertical-align: top;\n",
       "    }\n",
       "\n",
       "    .dataframe thead th {\n",
       "        text-align: right;\n",
       "    }\n",
       "</style>\n",
       "<table border=\"1\" class=\"dataframe\">\n",
       "  <thead>\n",
       "    <tr style=\"text-align: right;\">\n",
       "      <th></th>\n",
       "      <th>Zeitstempel</th>\n",
       "      <th>Age</th>\n",
       "      <th>Gender</th>\n",
       "      <th>City</th>\n",
       "      <th>Seniority level</th>\n",
       "      <th>Position (without seniority)</th>\n",
       "      <th>Years of experience</th>\n",
       "      <th>Your main technology / programming language</th>\n",
       "      <th>Yearly brutto salary (without bonus and stocks)</th>\n",
       "      <th>Yearly bonus</th>\n",
       "      <th>...</th>\n",
       "      <th>Yearly stocks one year ago. Only answer if staying in same country</th>\n",
       "      <th>Number of vacation days</th>\n",
       "      <th>Number of home office days per month</th>\n",
       "      <th>Main language at work</th>\n",
       "      <th>Company name</th>\n",
       "      <th>Company size</th>\n",
       "      <th>Company type</th>\n",
       "      <th>Сontract duration</th>\n",
       "      <th>Company business sector</th>\n",
       "      <th>0</th>\n",
       "    </tr>\n",
       "  </thead>\n",
       "  <tbody>\n",
       "    <tr>\n",
       "      <th>772</th>\n",
       "      <td>11.12.2019 08:54:21</td>\n",
       "      <td>29.0</td>\n",
       "      <td>Male</td>\n",
       "      <td>Amsterdam</td>\n",
       "      <td>Senior</td>\n",
       "      <td>QA</td>\n",
       "      <td>8</td>\n",
       "      <td>Java</td>\n",
       "      <td>74000.0</td>\n",
       "      <td>6000.0</td>\n",
       "      <td>...</td>\n",
       "      <td>NaN</td>\n",
       "      <td>30.0</td>\n",
       "      <td>4.0</td>\n",
       "      <td>English</td>\n",
       "      <td>Ingenico</td>\n",
       "      <td>1000+</td>\n",
       "      <td>Product</td>\n",
       "      <td>1 year</td>\n",
       "      <td>Finance / Insurance</td>\n",
       "      <td>NaN</td>\n",
       "    </tr>\n",
       "    <tr>\n",
       "      <th>100</th>\n",
       "      <td>02.12.2019 13:46:31</td>\n",
       "      <td>32.0</td>\n",
       "      <td>Male</td>\n",
       "      <td>Berlin</td>\n",
       "      <td>Senior</td>\n",
       "      <td>Backend Developer</td>\n",
       "      <td>12</td>\n",
       "      <td>PHP</td>\n",
       "      <td>68000.0</td>\n",
       "      <td>NaN</td>\n",
       "      <td>...</td>\n",
       "      <td>NaN</td>\n",
       "      <td>28.0</td>\n",
       "      <td>20.0</td>\n",
       "      <td>English</td>\n",
       "      <td>NaN</td>\n",
       "      <td>50-100</td>\n",
       "      <td>Product</td>\n",
       "      <td>unlimited</td>\n",
       "      <td>Сommerce</td>\n",
       "      <td>NaN</td>\n",
       "    </tr>\n",
       "    <tr>\n",
       "      <th>290</th>\n",
       "      <td>03.12.2019 10:06:39</td>\n",
       "      <td>26.0</td>\n",
       "      <td>Male</td>\n",
       "      <td>Munich</td>\n",
       "      <td>NaN</td>\n",
       "      <td>Mobile Developer</td>\n",
       "      <td>1</td>\n",
       "      <td>Javascript / Typescript</td>\n",
       "      <td>59000.0</td>\n",
       "      <td>NaN</td>\n",
       "      <td>...</td>\n",
       "      <td>NaN</td>\n",
       "      <td>20.0</td>\n",
       "      <td>4.0</td>\n",
       "      <td>English</td>\n",
       "      <td>NaN</td>\n",
       "      <td>50-100</td>\n",
       "      <td>Startup</td>\n",
       "      <td>unlimited</td>\n",
       "      <td>Сommerce</td>\n",
       "      <td>NaN</td>\n",
       "    </tr>\n",
       "  </tbody>\n",
       "</table>\n",
       "<p>3 rows × 23 columns</p>\n",
       "</div>"
      ],
      "text/plain": [
       "             Zeitstempel   Age Gender       City Seniority level  \\\n",
       "772  11.12.2019 08:54:21  29.0   Male  Amsterdam          Senior   \n",
       "100  02.12.2019 13:46:31  32.0   Male     Berlin          Senior   \n",
       "290  03.12.2019 10:06:39  26.0   Male     Munich             NaN   \n",
       "\n",
       "    Position (without seniority)  Years of experience  \\\n",
       "772                           QA                    8   \n",
       "100            Backend Developer                   12   \n",
       "290             Mobile Developer                    1   \n",
       "\n",
       "    Your main technology / programming language  \\\n",
       "772                                        Java   \n",
       "100                                         PHP   \n",
       "290                     Javascript / Typescript   \n",
       "\n",
       "     Yearly brutto salary (without bonus and stocks)  Yearly bonus  ...  \\\n",
       "772                                          74000.0        6000.0  ...   \n",
       "100                                          68000.0           NaN  ...   \n",
       "290                                          59000.0           NaN  ...   \n",
       "\n",
       "     Yearly stocks one year ago. Only answer if staying in same country  \\\n",
       "772                                                NaN                    \n",
       "100                                                NaN                    \n",
       "290                                                NaN                    \n",
       "\n",
       "     Number of vacation days  Number of home office days per month  \\\n",
       "772                     30.0                                   4.0   \n",
       "100                     28.0                                  20.0   \n",
       "290                     20.0                                   4.0   \n",
       "\n",
       "     Main language at work  Company name   Company size Company type  \\\n",
       "772                English       Ingenico         1000+      Product   \n",
       "100                English            NaN        50-100      Product   \n",
       "290                English            NaN        50-100      Startup   \n",
       "\n",
       "    Сontract duration Company business sector   0  \n",
       "772            1 year     Finance / Insurance NaN  \n",
       "100         unlimited                Сommerce NaN  \n",
       "290         unlimited                Сommerce NaN  \n",
       "\n",
       "[3 rows x 23 columns]"
      ]
     },
     "execution_count": 13,
     "metadata": {},
     "output_type": "execute_result"
    }
   ],
   "source": [
    "data_2019.sample(3)"
   ]
  },
  {
   "cell_type": "code",
   "execution_count": 19,
   "id": "78faa2fe",
   "metadata": {
    "scrolled": false
   },
   "outputs": [
    {
     "data": {
      "text/html": [
       "<div>\n",
       "<style scoped>\n",
       "    .dataframe tbody tr th:only-of-type {\n",
       "        vertical-align: middle;\n",
       "    }\n",
       "\n",
       "    .dataframe tbody tr th {\n",
       "        vertical-align: top;\n",
       "    }\n",
       "\n",
       "    .dataframe thead th {\n",
       "        text-align: right;\n",
       "    }\n",
       "</style>\n",
       "<table border=\"1\" class=\"dataframe\">\n",
       "  <thead>\n",
       "    <tr style=\"text-align: right;\">\n",
       "      <th></th>\n",
       "      <th>Timestamp</th>\n",
       "      <th>Age</th>\n",
       "      <th>Gender</th>\n",
       "      <th>City</th>\n",
       "      <th>Position</th>\n",
       "      <th>Total years of experience</th>\n",
       "      <th>Years of experience in Germany</th>\n",
       "      <th>Seniority level</th>\n",
       "      <th>Your main technology / programming language</th>\n",
       "      <th>Other technologies/programming languages you use often</th>\n",
       "      <th>...</th>\n",
       "      <th>Annual bonus+stocks one year ago. Only answer if staying in same country</th>\n",
       "      <th>Number of vacation days</th>\n",
       "      <th>Employment status</th>\n",
       "      <th>Сontract duration</th>\n",
       "      <th>Main language at work</th>\n",
       "      <th>Company size</th>\n",
       "      <th>Company type</th>\n",
       "      <th>Have you lost your job due to the coronavirus outbreak?</th>\n",
       "      <th>Have you been forced to have a shorter working week (Kurzarbeit)? If yes, how many hours per week</th>\n",
       "      <th>Have you received additional monetary support from your employer due to Work From Home? If yes, how much in 2020 in EUR</th>\n",
       "    </tr>\n",
       "  </thead>\n",
       "  <tbody>\n",
       "    <tr>\n",
       "      <th>895</th>\n",
       "      <td>28/11/2020 20:23:28</td>\n",
       "      <td>39.0</td>\n",
       "      <td>Female</td>\n",
       "      <td>Stuttgart</td>\n",
       "      <td>Project manager</td>\n",
       "      <td>13</td>\n",
       "      <td>13</td>\n",
       "      <td>Senior</td>\n",
       "      <td>NaN</td>\n",
       "      <td>NaN</td>\n",
       "      <td>...</td>\n",
       "      <td>0</td>\n",
       "      <td>30</td>\n",
       "      <td>Full-time employee</td>\n",
       "      <td>Unlimited contract</td>\n",
       "      <td>German</td>\n",
       "      <td>1000+</td>\n",
       "      <td>Automotive</td>\n",
       "      <td>No</td>\n",
       "      <td>32.0</td>\n",
       "      <td>NaN</td>\n",
       "    </tr>\n",
       "    <tr>\n",
       "      <th>502</th>\n",
       "      <td>25/11/2020 09:14:40</td>\n",
       "      <td>33.0</td>\n",
       "      <td>Male</td>\n",
       "      <td>Munich</td>\n",
       "      <td>Software Engineer</td>\n",
       "      <td>9</td>\n",
       "      <td>9</td>\n",
       "      <td>Lead</td>\n",
       "      <td>Java</td>\n",
       "      <td>Python, Kotlin, Javascript / Typescript, SQL, ...</td>\n",
       "      <td>...</td>\n",
       "      <td>0</td>\n",
       "      <td>29</td>\n",
       "      <td>Full-time employee</td>\n",
       "      <td>Unlimited contract</td>\n",
       "      <td>German</td>\n",
       "      <td>51-100</td>\n",
       "      <td>Product</td>\n",
       "      <td>No</td>\n",
       "      <td>0.0</td>\n",
       "      <td>No</td>\n",
       "    </tr>\n",
       "    <tr>\n",
       "      <th>1241</th>\n",
       "      <td>15/01/2021 18:28:54</td>\n",
       "      <td>30.0</td>\n",
       "      <td>Male</td>\n",
       "      <td>Berlin</td>\n",
       "      <td>SRE</td>\n",
       "      <td>10</td>\n",
       "      <td>5</td>\n",
       "      <td>NaN</td>\n",
       "      <td>Kubernetes</td>\n",
       "      <td>Go, Kubernetes</td>\n",
       "      <td>...</td>\n",
       "      <td>NaN</td>\n",
       "      <td>26</td>\n",
       "      <td>Full-time employee</td>\n",
       "      <td>Unlimited contract</td>\n",
       "      <td>English</td>\n",
       "      <td>101-1000</td>\n",
       "      <td>Product</td>\n",
       "      <td>No</td>\n",
       "      <td>NaN</td>\n",
       "      <td>NaN</td>\n",
       "    </tr>\n",
       "  </tbody>\n",
       "</table>\n",
       "<p>3 rows × 23 columns</p>\n",
       "</div>"
      ],
      "text/plain": [
       "                Timestamp   Age  Gender        City          Position   \\\n",
       "895   28/11/2020 20:23:28  39.0  Female  Stuttgart    Project manager    \n",
       "502   25/11/2020 09:14:40  33.0    Male      Munich  Software Engineer   \n",
       "1241  15/01/2021 18:28:54  30.0    Male      Berlin                SRE   \n",
       "\n",
       "     Total years of experience Years of experience in Germany Seniority level  \\\n",
       "895                         13                             13          Senior   \n",
       "502                          9                              9            Lead   \n",
       "1241                        10                              5             NaN   \n",
       "\n",
       "     Your main technology / programming language  \\\n",
       "895                                          NaN   \n",
       "502                                         Java   \n",
       "1241                                  Kubernetes   \n",
       "\n",
       "     Other technologies/programming languages you use often  ...  \\\n",
       "895                                                 NaN      ...   \n",
       "502   Python, Kotlin, Javascript / Typescript, SQL, ...      ...   \n",
       "1241                                     Go, Kubernetes      ...   \n",
       "\n",
       "      Annual bonus+stocks one year ago. Only answer if staying in same country  \\\n",
       "895                                                   0                          \n",
       "502                                                   0                          \n",
       "1241                                                NaN                          \n",
       "\n",
       "     Number of vacation days   Employment status   Сontract duration  \\\n",
       "895                       30  Full-time employee  Unlimited contract   \n",
       "502                       29  Full-time employee  Unlimited contract   \n",
       "1241                      26  Full-time employee  Unlimited contract   \n",
       "\n",
       "     Main language at work Company size Company type  \\\n",
       "895                 German        1000+  Automotive    \n",
       "502                 German       51-100      Product   \n",
       "1241               English     101-1000      Product   \n",
       "\n",
       "     Have you lost your job due to the coronavirus outbreak?  \\\n",
       "895                                                  No        \n",
       "502                                                  No        \n",
       "1241                                                 No        \n",
       "\n",
       "     Have you been forced to have a shorter working week (Kurzarbeit)? If yes, how many hours per week  \\\n",
       "895                                                32.0                                                  \n",
       "502                                                 0.0                                                  \n",
       "1241                                                NaN                                                  \n",
       "\n",
       "     Have you received additional monetary support from your employer due to Work From Home? If yes, how much in 2020 in EUR  \n",
       "895                                                 NaN                                                                       \n",
       "502                                                  No                                                                       \n",
       "1241                                                NaN                                                                       \n",
       "\n",
       "[3 rows x 23 columns]"
      ]
     },
     "execution_count": 19,
     "metadata": {},
     "output_type": "execute_result"
    }
   ],
   "source": [
    "data_2020.sample(3)"
   ]
  },
  {
   "cell_type": "code",
   "execution_count": 17,
   "id": "ffce9d82",
   "metadata": {},
   "outputs": [
    {
     "name": "stdout",
     "output_type": "stream",
     "text": [
      "(765, 14)\n",
      "(991, 23)\n",
      "(1253, 23)\n"
     ]
    }
   ],
   "source": [
    "#Assessing the shape info of the 3 datasets\n",
    "datasets  = [data_2018, data_2019, data_2020]\n",
    "\n",
    "for data in datasets:\n",
    "    print(data.shape)"
   ]
  },
  {
   "cell_type": "markdown",
   "id": "490008a8",
   "metadata": {},
   "source": [
    "### From the datasets, we can see that they are similar but they have different number of columns, columns names etc, so we will have to rename to standard column names across the datasets and remove columns that won't be necessary in our analysis to achieve similar data and data types across the three datasets to merge for easier analysis."
   ]
  },
  {
   "cell_type": "markdown",
   "id": "c6b8c0be",
   "metadata": {},
   "source": [
    "Here is a list of intended final columns across the datasets\n",
    "1. timestamp\n",
    "2. age\n",
    "3. gender\n",
    "4. city\n",
    "5. position\n",
    "6. years_of_experience\n",
    "7. seniority_level\n",
    "8. stock_options\n",
    "9. language_at_work\n",
    "10. company_size\n",
    "11. company_type"
   ]
  },
  {
   "cell_type": "code",
   "execution_count": 30,
   "id": "91d0cf20",
   "metadata": {},
   "outputs": [],
   "source": [
    "#Renaming 2018 Columns:\n",
    "\n",
    "data_2018.rename(columns = {'Timestamp':'timestamp','Age':'age', 'Gender': 'gender', 'City':'city', 'Position':'position',\n",
    "                            'Years of experience':'years_of_experience','Your level':'seniority_level', \n",
    "                            'Are you getting any Stock Options?':'stock_options',\n",
    "                            'Main language at work':'language_at_work', 'Company size':'company_size', \n",
    "                            'Company type':'company_type'},\n",
    "                            inplace = True)"
   ]
  },
  {
   "cell_type": "code",
   "execution_count": 31,
   "id": "78408c24",
   "metadata": {},
   "outputs": [],
   "source": [
    "#Renaming 2019 Columns:\n",
    "\n",
    "data_2019.rename(columns = {'Zeitstempel':'timestamp','Age':'age', 'Gender': 'gender', 'City':'city', \n",
    "                            'Position (without seniority)':'position','Years of experience':'years_of_experience',\n",
    "                            'Seniority level':'seniority_level', \n",
    "                            'Yearly stocks one year ago. Only answer if staying in same country':'stock_options',\n",
    "                            'Main language at work':'language_at_work', 'Company size':'company_size', \n",
    "                            'Company type':'company_type'},\n",
    "                            inplace = True)"
   ]
  },
  {
   "cell_type": "code",
   "execution_count": 38,
   "id": "0a2a73e7",
   "metadata": {},
   "outputs": [],
   "source": [
    "#Renaming 2020 Columns:\n",
    "\n",
    "data_2020.rename(columns = {'Timestamp':'timestamp','Age':'age', 'Gender': 'gender', 'City':'city', 'Position ':'position',\n",
    "                            'Total years of experience':'years_of_experience','Seniority level':'seniority_level',\n",
    "                            'Annual bonus+stocks one year ago. Only answer if staying in same country':'stock_options',\n",
    "                            'Main language at work':'language_at_work', 'Company size':'company_size', \n",
    "                            'Company type':'company_type'},\n",
    "                            inplace = True)"
   ]
  },
  {
   "cell_type": "code",
   "execution_count": 41,
   "id": "a6d13fcc",
   "metadata": {},
   "outputs": [
    {
     "data": {
      "text/plain": [
       "Index(['timestamp', 'age', 'gender', 'city', 'seniority_level', 'position',\n",
       "       'years_of_experience', 'Your main technology / programming language',\n",
       "       'Yearly brutto salary (without bonus and stocks)', 'Yearly bonus',\n",
       "       'Yearly stocks',\n",
       "       'Yearly brutto salary (without bonus and stocks) one year ago. Only answer if staying in same country',\n",
       "       'Yearly bonus one year ago. Only answer if staying in same country',\n",
       "       'stock_options', 'Number of vacation days',\n",
       "       'Number of home office days per month', 'language_at_work',\n",
       "       'Company name ', 'company_size', 'company_type', 'Сontract duration',\n",
       "       'Company business sector', '0'],\n",
       "      dtype='object')"
      ]
     },
     "execution_count": 41,
     "metadata": {},
     "output_type": "execute_result"
    }
   ],
   "source": [
    "data_2019.columns"
   ]
  },
  {
   "cell_type": "code",
   "execution_count": 48,
   "id": "13b72e56",
   "metadata": {},
   "outputs": [],
   "source": [
    "#Dropping unwanted columns\n",
    "\n",
    "data_2018.drop(['current_salary','Salary one year ago', 'Salary two years ago'], axis =1, inplace=True)\n",
    "data_2019.drop(['Your main technology / programming language','Yearly brutto salary (without bonus and stocks)','Yearly bonus',\n",
    "               'Yearly stocks','Yearly brutto salary (without bonus and stocks) one year ago. Only answer if staying in same country',\n",
    "                'Yearly bonus one year ago. Only answer if staying in same country','Number of vacation days','Number of home office days per month',\n",
    "                'Company name ','Сontract duration', 'Company business sector', '0'\n",
    "               ], axis =1, inplace=True)\n",
    "data_2020.drop(['Years of experience in Germany','Your main technology / programming language','Other technologies/programming languages you use often','Yearly brutto salary (without bonus and stocks) in EUR',\n",
    "               'Yearly bonus + stocks in EUR','Annual brutto salary (without bonus and stocks) one year ago. Only answer if staying in the same country',\n",
    "                'Number of vacation days','Employment status','Сontract duration', 'Have you lost your job due to the coronavirus outbreak?',\n",
    "                'Have you been forced to have a shorter working week (Kurzarbeit)? If yes, how many hours per week',\n",
    "                'Have you received additional monetary support from your employer due to Work From Home? If yes, how much in 2020 in EUR'\n",
    "               ], axis = 1, inplace=True)"
   ]
  },
  {
   "cell_type": "code",
   "execution_count": 50,
   "id": "fa96aa70",
   "metadata": {},
   "outputs": [
    {
     "name": "stdout",
     "output_type": "stream",
     "text": [
      "(765, 11)\n",
      "(991, 11)\n",
      "(1253, 11)\n"
     ]
    }
   ],
   "source": [
    "#Testing the shape info of the 3 datasets\n",
    "datasets  = [data_2018, data_2019, data_2020]\n",
    "\n",
    "for data in datasets:\n",
    "    print(data.shape)"
   ]
  },
  {
   "cell_type": "markdown",
   "id": "b88bcc09",
   "metadata": {},
   "source": [
    "### Columns have been cleaned and are now similar and can now be merged/appended into one"
   ]
  },
  {
   "cell_type": "code",
   "execution_count": 52,
   "id": "1e771319",
   "metadata": {},
   "outputs": [],
   "source": [
    "years = [data_2018, data_2019,data_2020]\n",
    "data = pd.concat(years)"
   ]
  },
  {
   "cell_type": "markdown",
   "id": "d4675a8b",
   "metadata": {},
   "source": [
    "### Lets have a look at our new data visually and look for issues to clean "
   ]
  },
  {
   "cell_type": "code",
   "execution_count": 53,
   "id": "3b934040",
   "metadata": {},
   "outputs": [
    {
     "data": {
      "text/html": [
       "<div>\n",
       "<style scoped>\n",
       "    .dataframe tbody tr th:only-of-type {\n",
       "        vertical-align: middle;\n",
       "    }\n",
       "\n",
       "    .dataframe tbody tr th {\n",
       "        vertical-align: top;\n",
       "    }\n",
       "\n",
       "    .dataframe thead th {\n",
       "        text-align: right;\n",
       "    }\n",
       "</style>\n",
       "<table border=\"1\" class=\"dataframe\">\n",
       "  <thead>\n",
       "    <tr style=\"text-align: right;\">\n",
       "      <th></th>\n",
       "      <th>timestamp</th>\n",
       "      <th>age</th>\n",
       "      <th>gender</th>\n",
       "      <th>city</th>\n",
       "      <th>position</th>\n",
       "      <th>years_of_experience</th>\n",
       "      <th>seniority_level</th>\n",
       "      <th>stock_options</th>\n",
       "      <th>language_at_work</th>\n",
       "      <th>company_size</th>\n",
       "      <th>company_type</th>\n",
       "    </tr>\n",
       "  </thead>\n",
       "  <tbody>\n",
       "    <tr>\n",
       "      <th>55</th>\n",
       "      <td>14/12/2018 13:54:24</td>\n",
       "      <td>34.0</td>\n",
       "      <td>M</td>\n",
       "      <td>Hamburg</td>\n",
       "      <td>Scala Developer</td>\n",
       "      <td>10.0</td>\n",
       "      <td>Senior</td>\n",
       "      <td>Yes</td>\n",
       "      <td>English</td>\n",
       "      <td>50-100</td>\n",
       "      <td>Startup</td>\n",
       "    </tr>\n",
       "    <tr>\n",
       "      <th>621</th>\n",
       "      <td>06.12.2019 09:59:35</td>\n",
       "      <td>37.0</td>\n",
       "      <td>Male</td>\n",
       "      <td>Berlin</td>\n",
       "      <td>Data Engineer</td>\n",
       "      <td>13</td>\n",
       "      <td>Senior</td>\n",
       "      <td>NaN</td>\n",
       "      <td>English</td>\n",
       "      <td>50-100</td>\n",
       "      <td>Product</td>\n",
       "    </tr>\n",
       "    <tr>\n",
       "      <th>585</th>\n",
       "      <td>25/11/2020 13:49:33</td>\n",
       "      <td>29.0</td>\n",
       "      <td>Male</td>\n",
       "      <td>Berlin</td>\n",
       "      <td>Frontend Developer</td>\n",
       "      <td>9</td>\n",
       "      <td>Senior</td>\n",
       "      <td>NaN</td>\n",
       "      <td>English</td>\n",
       "      <td>1000+</td>\n",
       "      <td>Startup</td>\n",
       "    </tr>\n",
       "    <tr>\n",
       "      <th>267</th>\n",
       "      <td>03.12.2019 00:45:57</td>\n",
       "      <td>29.0</td>\n",
       "      <td>Female</td>\n",
       "      <td>Berlin</td>\n",
       "      <td>Machine Learning Engineer</td>\n",
       "      <td>3</td>\n",
       "      <td>Middle</td>\n",
       "      <td>NaN</td>\n",
       "      <td>English</td>\n",
       "      <td>10-50</td>\n",
       "      <td>Startup</td>\n",
       "    </tr>\n",
       "  </tbody>\n",
       "</table>\n",
       "</div>"
      ],
      "text/plain": [
       "               timestamp   age  gender     city                   position  \\\n",
       "55   14/12/2018 13:54:24  34.0       M  Hamburg            Scala Developer   \n",
       "621  06.12.2019 09:59:35  37.0    Male   Berlin              Data Engineer   \n",
       "585  25/11/2020 13:49:33  29.0    Male   Berlin         Frontend Developer   \n",
       "267  03.12.2019 00:45:57  29.0  Female   Berlin  Machine Learning Engineer   \n",
       "\n",
       "    years_of_experience seniority_level stock_options language_at_work  \\\n",
       "55                 10.0          Senior           Yes          English   \n",
       "621                  13          Senior           NaN          English   \n",
       "585                   9          Senior           NaN          English   \n",
       "267                   3          Middle           NaN          English   \n",
       "\n",
       "    company_size company_type  \n",
       "55        50-100      Startup  \n",
       "621       50-100      Product  \n",
       "585        1000+      Startup  \n",
       "267        10-50      Startup  "
      ]
     },
     "execution_count": 53,
     "metadata": {},
     "output_type": "execute_result"
    }
   ],
   "source": [
    "data.sample(4)"
   ]
  },
  {
   "cell_type": "code",
   "execution_count": 54,
   "id": "42ec5d30",
   "metadata": {},
   "outputs": [
    {
     "name": "stdout",
     "output_type": "stream",
     "text": [
      "<class 'pandas.core.frame.DataFrame'>\n",
      "Int64Index: 3009 entries, 0 to 1252\n",
      "Data columns (total 11 columns):\n",
      " #   Column               Non-Null Count  Dtype  \n",
      "---  ------               --------------  -----  \n",
      " 0   timestamp            3009 non-null   object \n",
      " 1   age                  2780 non-null   float64\n",
      " 2   gender               2985 non-null   object \n",
      " 3   city                 2980 non-null   object \n",
      " 4   position             2974 non-null   object \n",
      " 5   years_of_experience  2960 non-null   object \n",
      " 6   seniority_level      2960 non-null   object \n",
      " 7   stock_options        1495 non-null   object \n",
      " 8   language_at_work     2973 non-null   object \n",
      " 9   company_size         2962 non-null   object \n",
      " 10  company_type         2918 non-null   object \n",
      "dtypes: float64(1), object(10)\n",
      "memory usage: 282.1+ KB\n"
     ]
    }
   ],
   "source": [
    "data.info()"
   ]
  },
  {
   "cell_type": "code",
   "execution_count": 62,
   "id": "b118ed0d",
   "metadata": {},
   "outputs": [
    {
     "data": {
      "text/plain": [
       "timestamp               object\n",
       "age                    float64\n",
       "gender                  object\n",
       "city                    object\n",
       "position                object\n",
       "years_of_experience     object\n",
       "seniority_level         object\n",
       "stock_options           object\n",
       "language_at_work        object\n",
       "company_size            object\n",
       "company_type            object\n",
       "dtype: object"
      ]
     },
     "execution_count": 62,
     "metadata": {},
     "output_type": "execute_result"
    }
   ],
   "source": [
    "data.dtypes"
   ]
  },
  {
   "cell_type": "code",
   "execution_count": 57,
   "id": "a0729b18",
   "metadata": {},
   "outputs": [
    {
     "data": {
      "text/plain": [
       "0"
      ]
     },
     "execution_count": 57,
     "metadata": {},
     "output_type": "execute_result"
    }
   ],
   "source": [
    "data.duplicated().sum()"
   ]
  },
  {
   "cell_type": "code",
   "execution_count": 59,
   "id": "db6b93b7",
   "metadata": {},
   "outputs": [
    {
     "data": {
      "text/plain": [
       "timestamp                 0\n",
       "age                     229\n",
       "gender                   24\n",
       "city                     29\n",
       "position                 35\n",
       "years_of_experience      49\n",
       "seniority_level          49\n",
       "stock_options          1514\n",
       "language_at_work         36\n",
       "company_size             47\n",
       "company_type             91\n",
       "dtype: int64"
      ]
     },
     "execution_count": 59,
     "metadata": {},
     "output_type": "execute_result"
    }
   ],
   "source": [
    "data.isnull().sum()"
   ]
  },
  {
   "cell_type": "markdown",
   "id": "a752b0ec",
   "metadata": {},
   "source": [
    "#Insights picked up from visual assesment.\n",
    "1. There are 3009 entries from the merged data\n",
    "2. Every field apart from timestamp has null values, with highest being stock_options\n",
    "3. No duplicated rows found"
   ]
  },
  {
   "cell_type": "code",
   "execution_count": 64,
   "id": "98b5e48d",
   "metadata": {},
   "outputs": [
    {
     "data": {
      "text/html": [
       "<div>\n",
       "<style scoped>\n",
       "    .dataframe tbody tr th:only-of-type {\n",
       "        vertical-align: middle;\n",
       "    }\n",
       "\n",
       "    .dataframe tbody tr th {\n",
       "        vertical-align: top;\n",
       "    }\n",
       "\n",
       "    .dataframe thead th {\n",
       "        text-align: right;\n",
       "    }\n",
       "</style>\n",
       "<table border=\"1\" class=\"dataframe\">\n",
       "  <thead>\n",
       "    <tr style=\"text-align: right;\">\n",
       "      <th></th>\n",
       "      <th>timestamp</th>\n",
       "      <th>age</th>\n",
       "      <th>gender</th>\n",
       "      <th>city</th>\n",
       "      <th>position</th>\n",
       "      <th>years_of_experience</th>\n",
       "      <th>seniority_level</th>\n",
       "      <th>stock_options</th>\n",
       "      <th>language_at_work</th>\n",
       "      <th>company_size</th>\n",
       "      <th>company_type</th>\n",
       "    </tr>\n",
       "  </thead>\n",
       "  <tbody>\n",
       "    <tr>\n",
       "      <th>597</th>\n",
       "      <td>25/11/2020 14:00:28</td>\n",
       "      <td>38.0</td>\n",
       "      <td>Male</td>\n",
       "      <td>Berlin</td>\n",
       "      <td>Data Scientist</td>\n",
       "      <td>15</td>\n",
       "      <td>Senior</td>\n",
       "      <td>59000</td>\n",
       "      <td>English</td>\n",
       "      <td>11-50</td>\n",
       "      <td>Product</td>\n",
       "    </tr>\n",
       "  </tbody>\n",
       "</table>\n",
       "</div>"
      ],
      "text/plain": [
       "               timestamp   age gender    city        position  \\\n",
       "597  25/11/2020 14:00:28  38.0   Male  Berlin  Data Scientist   \n",
       "\n",
       "    years_of_experience seniority_level stock_options language_at_work  \\\n",
       "597                  15          Senior         59000          English   \n",
       "\n",
       "    company_size company_type  \n",
       "597        11-50      Product  "
      ]
     },
     "execution_count": 64,
     "metadata": {},
     "output_type": "execute_result"
    }
   ],
   "source": [
    "data.sample(1)"
   ]
  },
  {
   "cell_type": "markdown",
   "id": "4c4c312d",
   "metadata": {},
   "source": [
    "### Exploratorty Data Analysis using Visualization"
   ]
  },
  {
   "cell_type": "markdown",
   "id": "ca3a71cc",
   "metadata": {},
   "source": [
    "###### 1. What is the distribution in terms of gender"
   ]
  },
  {
   "cell_type": "code",
   "execution_count": 74,
   "id": "47f8bd02",
   "metadata": {},
   "outputs": [
    {
     "data": {
      "text/plain": [
       "Male       1887\n",
       "M           646\n",
       "Female      345\n",
       "F           105\n",
       "Diverse       2\n",
       "Name: gender, dtype: int64"
      ]
     },
     "execution_count": 74,
     "metadata": {},
     "output_type": "execute_result"
    }
   ],
   "source": [
    "data['gender'].value_counts()"
   ]
  },
  {
   "cell_type": "markdown",
   "id": "6aab71f2",
   "metadata": {},
   "source": [
    "* Gender has some inappropriate naming in some columns, we'll go ahead and replca to correct values.\n",
    "> M to Male, F to Female"
   ]
  },
  {
   "cell_type": "code",
   "execution_count": 78,
   "id": "84e494df",
   "metadata": {},
   "outputs": [],
   "source": [
    "data['gender'].replace('M', 'Male', inplace = True);"
   ]
  },
  {
   "cell_type": "code",
   "execution_count": 80,
   "id": "d1789395",
   "metadata": {},
   "outputs": [],
   "source": [
    "data['gender'].replace('F', 'Female', inplace = True);"
   ]
  },
  {
   "cell_type": "code",
   "execution_count": 83,
   "id": "159277ad",
   "metadata": {},
   "outputs": [
    {
     "data": {
      "image/png": "[encoded data removed]",
      "text/plain": [
       "<Figure size 432x288 with 1 Axes>"
      ]
     },
     "metadata": {},
     "output_type": "display_data"
    }
   ],
   "source": [
    "data['gender'].value_counts().plot(kind = 'pie');"
   ]
  },
  {
   "cell_type": "markdown",
   "id": "83dfaa73",
   "metadata": {},
   "source": [
    "##### 2. City Distribution\n",
    "* Plotting the top Cities Where workers Reside"
   ]
  },
  {
   "cell_type": "code",
   "execution_count": 88,
   "id": "4743d3f4",
   "metadata": {},
   "outputs": [
    {
     "data": {
      "image/png": "[encoded data removed]",
      "text/plain": [
       "<Figure size 432x288 with 1 Axes>"
      ]
     },
     "metadata": {
      "needs_background": "light"
     },
     "output_type": "display_data"
    }
   ],
   "source": [
    "data['city'].value_counts()[:10].plot(kind = 'bar');"
   ]
  },
  {
   "cell_type": "markdown",
   "id": "56223d03",
   "metadata": {},
   "source": [
    "###### 3. Top 10 Positions Distribution"
   ]
  },
  {
   "cell_type": "code",
   "execution_count": 91,
   "id": "33f1e3fd",
   "metadata": {},
   "outputs": [
    {
     "data": {
      "text/plain": [
       "<AxesSubplot:>"
      ]
     },
     "execution_count": 91,
     "metadata": {},
     "output_type": "execute_result"
    },
    {
     "data": {
      "image/png": "[encoded data removed]",
      "text/plain": [
       "<Figure size 432x288 with 1 Axes>"
      ]
     },
     "metadata": {
      "needs_background": "light"
     },
     "output_type": "display_data"
    }
   ],
   "source": [
    "data['position'].value_counts()[:10].plot(kind='barh')"
   ]
  },
  {
   "cell_type": "markdown",
   "id": "bd37b44a",
   "metadata": {},
   "source": [
    "###### 4. Level of Seniority Distribution"
   ]
  },
  {
   "cell_type": "code",
   "execution_count": 94,
   "id": "3f14c1fa",
   "metadata": {},
   "outputs": [
    {
     "data": {
      "text/plain": [
       "<AxesSubplot:>"
      ]
     },
     "execution_count": 94,
     "metadata": {},
     "output_type": "execute_result"
    },
    {
     "data": {
      "image/png": "[encoded data removed]",
      "text/plain": [
       "<Figure size 432x288 with 1 Axes>"
      ]
     },
     "metadata": {
      "needs_background": "light"
     },
     "output_type": "display_data"
    }
   ],
   "source": [
    "data['seniority_level'].value_counts()[:5].plot(kind='bar')"
   ]
  },
  {
   "cell_type": "markdown",
   "id": "e02d3374",
   "metadata": {},
   "source": [
    "###### 5. Language Distribution"
   ]
  },
  {
   "cell_type": "code",
   "execution_count": 96,
   "id": "937f79a6",
   "metadata": {},
   "outputs": [
    {
     "data": {
      "text/plain": [
       "<AxesSubplot:>"
      ]
     },
     "execution_count": 96,
     "metadata": {},
     "output_type": "execute_result"
    },
    {
     "data": {
      "image/png": "[encoded data removed]",
      "text/plain": [
       "<Figure size 432x288 with 1 Axes>"
      ]
     },
     "metadata": {
      "needs_background": "light"
     },
     "output_type": "display_data"
    }
   ],
   "source": [
    "data['language_at_work'].value_counts()[:5].plot(kind='bar')"
   ]
  },
  {
   "cell_type": "markdown",
   "id": "53cff31c",
   "metadata": {},
   "source": [
    "###### 6. Company Type Distribution"
   ]
  },
  {
   "cell_type": "code",
   "execution_count": 98,
   "id": "020d1785",
   "metadata": {},
   "outputs": [
    {
     "data": {
      "text/plain": [
       "<AxesSubplot:>"
      ]
     },
     "execution_count": 98,
     "metadata": {},
     "output_type": "execute_result"
    },
    {
     "data": {
      "image/png": "[encoded data removed]",
      "text/plain": [
       "<Figure size 432x288 with 1 Axes>"
      ]
     },
     "metadata": {
      "needs_background": "light"
     },
     "output_type": "display_data"
    }
   ],
   "source": [
    "data['company_type'].value_counts()[:5].plot(kind='bar')"
   ]
  },
  {
   "cell_type": "markdown",
   "id": "30d7f369",
   "metadata": {},
   "source": [
    "### Conclusion"
   ]
  },
  {
   "cell_type": "markdown",
   "id": "78e0900e",
   "metadata": {},
   "source": [
    "From the above analysis we can clearly have this insights:\n",
    "   1. More males are in the technical jobs compared to women\n",
    "   2. German Cities have the most employee distribution with Berlin, Munich and Frankfurt closing the top three.\n",
    "   3. The job position with the most employees is Back End Devlopers and Software Engineers while Data Engineer has the least.\n",
    "   4. Seniors have the most positions compared to othe seniority levels\n",
    "   5. English is the most used language followed by Deitsch(German)\n",
    "   6. Most company deal with product with Startups being a distant second."
   ]
  },
  {
   "cell_type": "code",
   "execution_count": 99,
   "id": "e60ac355",
   "metadata": {},
   "outputs": [],
   "source": [
    "#We save our clean merged data to our local machine\n",
    "merged_data = data.to_csv('merged_data.csv')"
   ]
  },
  {
   "cell_type": "markdown",
   "id": "21a8eb87",
   "metadata": {},
   "source": [
    "###### Mwema, Mwema Phil"
   ]
  }
 ],
 "metadata": {
  "kernelspec": {
   "display_name": "Python 3 (ipykernel)",
   "language": "python",
   "name": "python3"
  },
  "language_info": {
   "codemirror_mode": {
    "name": "ipython",
    "version": 3
   },
   "file_extension": ".py",
   "mimetype": "text/x-python",
   "name": "python",
   "nbconvert_exporter": "python",
   "pygments_lexer": "ipython3",
   "version": "3.9.7"
  }
 },
 "nbformat": 4,
 "nbformat_minor": 5
}
